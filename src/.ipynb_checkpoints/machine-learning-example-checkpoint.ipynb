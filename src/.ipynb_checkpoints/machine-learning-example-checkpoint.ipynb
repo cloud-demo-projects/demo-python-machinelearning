{
 "cells": [
  {
   "cell_type": "code",
   "execution_count": 1,
   "id": "64d69558",
   "metadata": {},
   "outputs": [
    {
     "name": "stdout",
     "output_type": "stream",
     "text": [
      "Requirement already satisfied: pandas in c:\\mydata\\githubprojects\\demo-python-machinelearning\\src\\.venv\\lib\\site-packages (1.5.3)\n",
      "Requirement already satisfied: numpy>=1.20.3 in c:\\mydata\\githubprojects\\demo-python-machinelearning\\src\\.venv\\lib\\site-packages (from pandas) (1.24.2)\n",
      "Requirement already satisfied: pytz>=2020.1 in c:\\mydata\\githubprojects\\demo-python-machinelearning\\src\\.venv\\lib\\site-packages (from pandas) (2023.2)\n",
      "Requirement already satisfied: python-dateutil>=2.8.1 in c:\\mydata\\githubprojects\\demo-python-machinelearning\\src\\.venv\\lib\\site-packages (from pandas) (2.8.2)\n",
      "Requirement already satisfied: six>=1.5 in c:\\mydata\\githubprojects\\demo-python-machinelearning\\src\\.venv\\lib\\site-packages (from python-dateutil>=2.8.1->pandas) (1.16.0)\n"
     ]
    },
    {
     "name": "stderr",
     "output_type": "stream",
     "text": [
      "WARNING: You are using pip version 22.0.4; however, version 23.0.1 is available.\n",
      "You should consider upgrading via the 'C:\\MyData\\GithubProjects\\demo-python-machinelearning\\src\\.venv\\Scripts\\python.exe -m pip install --upgrade pip' command.\n"
     ]
    },
    {
     "name": "stdout",
     "output_type": "stream",
     "text": [
      "Requirement already satisfied: statsmodels in c:\\mydata\\githubprojects\\demo-python-machinelearning\\src\\.venv\\lib\\site-packages (0.13.5)\n",
      "Requirement already satisfied: packaging>=21.3 in c:\\mydata\\githubprojects\\demo-python-machinelearning\\src\\.venv\\lib\\site-packages (from statsmodels) (23.0)\n",
      "Requirement already satisfied: patsy>=0.5.2 in c:\\mydata\\githubprojects\\demo-python-machinelearning\\src\\.venv\\lib\\site-packages (from statsmodels) (0.5.3)\n",
      "Requirement already satisfied: numpy>=1.17 in c:\\mydata\\githubprojects\\demo-python-machinelearning\\src\\.venv\\lib\\site-packages (from statsmodels) (1.24.2)\n",
      "Requirement already satisfied: scipy>=1.3 in c:\\mydata\\githubprojects\\demo-python-machinelearning\\src\\.venv\\lib\\site-packages (from statsmodels) (1.10.1)\n",
      "Requirement already satisfied: pandas>=0.25 in c:\\mydata\\githubprojects\\demo-python-machinelearning\\src\\.venv\\lib\\site-packages (from statsmodels) (1.5.3)\n",
      "Requirement already satisfied: python-dateutil>=2.8.1 in c:\\mydata\\githubprojects\\demo-python-machinelearning\\src\\.venv\\lib\\site-packages (from pandas>=0.25->statsmodels) (2.8.2)\n",
      "Requirement already satisfied: pytz>=2020.1 in c:\\mydata\\githubprojects\\demo-python-machinelearning\\src\\.venv\\lib\\site-packages (from pandas>=0.25->statsmodels) (2023.2)\n",
      "Requirement already satisfied: six in c:\\mydata\\githubprojects\\demo-python-machinelearning\\src\\.venv\\lib\\site-packages (from patsy>=0.5.2->statsmodels) (1.16.0)\n"
     ]
    },
    {
     "name": "stderr",
     "output_type": "stream",
     "text": [
      "WARNING: You are using pip version 22.0.4; however, version 23.0.1 is available.\n",
      "You should consider upgrading via the 'C:\\MyData\\GithubProjects\\demo-python-machinelearning\\src\\.venv\\Scripts\\python.exe -m pip install --upgrade pip' command.\n",
      "'wget' is not recognized as an internal or external command,\n",
      "operable program or batch file.\n",
      "'wget' is not recognized as an internal or external command,\n",
      "operable program or batch file.\n"
     ]
    },
    {
     "data": {
      "text/html": [
       "<div>\n",
       "<style scoped>\n",
       "    .dataframe tbody tr th:only-of-type {\n",
       "        vertical-align: middle;\n",
       "    }\n",
       "\n",
       "    .dataframe tbody tr th {\n",
       "        vertical-align: top;\n",
       "    }\n",
       "\n",
       "    .dataframe thead th {\n",
       "        text-align: right;\n",
       "    }\n",
       "</style>\n",
       "<table border=\"1\" class=\"dataframe\">\n",
       "  <thead>\n",
       "    <tr style=\"text-align: right;\">\n",
       "      <th></th>\n",
       "      <th>boot_size</th>\n",
       "      <th>harness_size</th>\n",
       "      <th>sex</th>\n",
       "      <th>age_years</th>\n",
       "    </tr>\n",
       "  </thead>\n",
       "  <tbody>\n",
       "    <tr>\n",
       "      <th>0</th>\n",
       "      <td>39</td>\n",
       "      <td>58</td>\n",
       "      <td>male</td>\n",
       "      <td>12.0</td>\n",
       "    </tr>\n",
       "    <tr>\n",
       "      <th>1</th>\n",
       "      <td>38</td>\n",
       "      <td>58</td>\n",
       "      <td>male</td>\n",
       "      <td>9.6</td>\n",
       "    </tr>\n",
       "    <tr>\n",
       "      <th>2</th>\n",
       "      <td>37</td>\n",
       "      <td>52</td>\n",
       "      <td>female</td>\n",
       "      <td>8.6</td>\n",
       "    </tr>\n",
       "    <tr>\n",
       "      <th>3</th>\n",
       "      <td>39</td>\n",
       "      <td>58</td>\n",
       "      <td>male</td>\n",
       "      <td>10.2</td>\n",
       "    </tr>\n",
       "    <tr>\n",
       "      <th>4</th>\n",
       "      <td>38</td>\n",
       "      <td>57</td>\n",
       "      <td>male</td>\n",
       "      <td>7.8</td>\n",
       "    </tr>\n",
       "  </tbody>\n",
       "</table>\n",
       "</div>"
      ],
      "text/plain": [
       "   boot_size  harness_size     sex  age_years\n",
       "0         39            58    male       12.0\n",
       "1         38            58    male        9.6\n",
       "2         37            52  female        8.6\n",
       "3         39            58    male       10.2\n",
       "4         38            57    male        7.8"
      ]
     },
     "execution_count": 1,
     "metadata": {},
     "output_type": "execute_result"
    }
   ],
   "source": [
    "!pip install pandas\n",
    "import pandas\n",
    "!pip install statsmodels\n",
    "!wget https://raw.githubusercontent.com/MicrosoftDocs/mslearn-introduction-to-machine-learning/main/graphing.py\n",
    "!wget https://raw.githubusercontent.com/MicrosoftDocs/mslearn-introduction-to-machine-learning/main/Data/doggy-boot-harness.csv\n",
    "\n",
    "# Load a file containing dog's boot and harness sizes\n",
    "data = pandas.read_csv('doggy-boot-harness.csv')\n",
    "\n",
    "# Print the first few rows\n",
    "data.head()\n"
   ]
  },
  {
   "cell_type": "code",
   "execution_count": 5,
   "id": "19f783ba",
   "metadata": {},
   "outputs": [
    {
     "name": "stdout",
     "output_type": "stream",
     "text": [
      "Model trained!\n"
     ]
    }
   ],
   "source": [
    "import statsmodels.formula.api as smf\n",
    "\n",
    "# Fit a simple model that finds a linear relationship\n",
    "# between boot size and harness size, which we can use later\n",
    "# to predict a dog's boot size, given their harness size\n",
    "model = smf.ols(formula = \"boot_size ~ harness_size\", data = data).fit()\n",
    "\n",
    "print(\"Model trained!\")"
   ]
  },
  {
   "cell_type": "code",
   "execution_count": 6,
   "id": "cf741188",
   "metadata": {},
   "outputs": [
    {
     "name": "stdout",
     "output_type": "stream",
     "text": [
      "Model saved!\n"
     ]
    }
   ],
   "source": [
    "import joblib\n",
    "\n",
    "model_filename = './avalanche_dog_boot_model.pkl'\n",
    "joblib.dump(model, model_filename)\n",
    "\n",
    "print(\"Model saved!\")"
   ]
  },
  {
   "cell_type": "code",
   "execution_count": 7,
   "id": "d7f5ba33",
   "metadata": {},
   "outputs": [
    {
     "name": "stdout",
     "output_type": "stream",
     "text": [
      "We have loaded a model with the following parameters:\n",
      "Intercept       5.719110\n",
      "harness_size    0.585925\n",
      "dtype: float64\n"
     ]
    }
   ],
   "source": [
    "model_loaded = joblib.load(model_filename)\n",
    "\n",
    "print(\"We have loaded a model with the following parameters:\")\n",
    "print(model_loaded.params)"
   ]
  },
  {
   "cell_type": "code",
   "execution_count": 8,
   "id": "5d8ae573",
   "metadata": {},
   "outputs": [
    {
     "name": "stdout",
     "output_type": "stream",
     "text": [
      "We've loaded a model with the following parameters:\n",
      "Intercept       5.719110\n",
      "harness_size    0.585925\n",
      "dtype: float64\n",
      "Predicted dog boot size: 32.08575356590478\n"
     ]
    }
   ],
   "source": [
    "# Let's write a function that loads and uses our model\n",
    "def load_model_and_predict(harness_size):\n",
    "    '''\n",
    "    This function loads a pretrained model. It uses the model\n",
    "    with the customer's dog's harness size to predict the size of\n",
    "    boots that will fit that dog.\n",
    "\n",
    "    harness_size: The dog harness size, in cm \n",
    "    '''\n",
    "\n",
    "    # Load the model from file and print basic information about it\n",
    "    loaded_model = joblib.load(model_filename)\n",
    "\n",
    "    print(\"We've loaded a model with the following parameters:\")\n",
    "    print(loaded_model.params)\n",
    "\n",
    "    # Prepare data for the model\n",
    "    inputs = {\"harness_size\":[harness_size]} \n",
    "\n",
    "    # Use the model to make a prediction\n",
    "    predicted_boot_size = loaded_model.predict(inputs)[0]\n",
    "\n",
    "    return predicted_boot_size\n",
    "\n",
    "# Practice using our model\n",
    "predicted_boot_size = load_model_and_predict(45)\n",
    "\n",
    "print(\"Predicted dog boot size:\", predicted_boot_size)"
   ]
  },
  {
   "cell_type": "code",
   "execution_count": 9,
   "id": "fecef768",
   "metadata": {},
   "outputs": [
    {
     "name": "stdout",
     "output_type": "stream",
     "text": [
      "We've loaded a model with the following parameters:\n",
      "Intercept       5.719110\n",
      "harness_size    0.585925\n",
      "dtype: float64\n"
     ]
    },
    {
     "data": {
      "text/plain": [
       "'The boots you have selected might be TOO BIG for a dog as small as yours. We recommend a doggy boots size of 38.'"
      ]
     },
     "execution_count": 9,
     "metadata": {},
     "output_type": "execute_result"
    }
   ],
   "source": [
    "def check_size_of_boots(selected_harness_size, selected_boot_size):\n",
    "    '''\n",
    "    Calculates whether the customer has chosen a pair of doggy boots that \n",
    "    are a sensible size. This works by estimating the dog's actual boot \n",
    "    size from their harness size.\n",
    "\n",
    "    This returns a message for the customer that should be shown before\n",
    "    they complete their payment \n",
    "\n",
    "    selected_harness_size: The size of the harness the customer wants to buy\n",
    "    selected_boot_size: The size of the doggy boots the customer wants to buy\n",
    "    '''\n",
    "\n",
    "    # Estimate the customer's dog's boot size\n",
    "    estimated_boot_size = load_model_and_predict(selected_harness_size)\n",
    "\n",
    "    # Round to the nearest whole number because we don't sell partial sizes\n",
    "    estimated_boot_size = int(round(estimated_boot_size))\n",
    "\n",
    "    # Check if the boot size selected is appropriate\n",
    "    if selected_boot_size == estimated_boot_size:\n",
    "        # The selected boots are probably OK\n",
    "        return f\"Great choice! We think these boots will fit your avalanche dog well.\"\n",
    "\n",
    "    if selected_boot_size < estimated_boot_size:\n",
    "        # Selected boots might be too small \n",
    "        return \"The boots you have selected might be TOO SMALL for a dog as \"\\\n",
    "               f\"big as yours. We recommend a doggy boots size of {estimated_boot_size}.\"\n",
    "\n",
    "    if selected_boot_size > estimated_boot_size:\n",
    "        # Selected boots might be too big \n",
    "        return \"The boots you have selected might be TOO BIG for a dog as \"\\\n",
    "               f\"small as yours. We recommend a doggy boots size of {estimated_boot_size}.\"\n",
    "    \n",
    "\n",
    "# Practice using our new warning system\n",
    "check_size_of_boots(selected_harness_size=55, selected_boot_size=39)"
   ]
  },
  {
   "cell_type": "code",
   "execution_count": null,
   "id": "c4b51928",
   "metadata": {},
   "outputs": [],
   "source": []
  },
  {
   "cell_type": "code",
   "execution_count": null,
   "id": "7e1d1e31",
   "metadata": {},
   "outputs": [],
   "source": []
  }
 ],
 "metadata": {
  "kernelspec": {
   "display_name": "Python 3 (ipykernel)",
   "language": "python",
   "name": "python3"
  },
  "language_info": {
   "codemirror_mode": {
    "name": "ipython",
    "version": 3
   },
   "file_extension": ".py",
   "mimetype": "text/x-python",
   "name": "python",
   "nbconvert_exporter": "python",
   "pygments_lexer": "ipython3",
   "version": "3.9.13"
  }
 },
 "nbformat": 4,
 "nbformat_minor": 5
}
